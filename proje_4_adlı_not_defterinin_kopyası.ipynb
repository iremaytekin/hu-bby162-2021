{
  "nbformat": 4,
  "nbformat_minor": 0,
  "metadata": {
    "colab": {
      "name": "proje 4 adlı not defterinin kopyası",
      "provenance": [],
      "mount_file_id": "1srl6mfB1P1oNP7hi6tNy0dI8KDMh82vf",
      "authorship_tag": "ABX9TyMDWjnIjM20FGBnAEFAvb23",
      "include_colab_link": true
    },
    "kernelspec": {
      "name": "python3",
      "display_name": "Python 3"
    },
    "language_info": {
      "name": "python"
    }
  },
  "cells": [
    {
      "cell_type": "markdown",
      "metadata": {
        "id": "view-in-github",
        "colab_type": "text"
      },
      "source": [
        "<a href=\"https://colab.research.google.com/github/iremaytekin/hu-bby162-2021/blob/main/proje_4_adl%C4%B1_not_defterinin_kopyas%C4%B1.ipynb\" target=\"_parent\"><img src=\"https://colab.research.google.com/assets/colab-badge.svg\" alt=\"Open In Colab\"/></a>"
      ]
    },
    {
      "cell_type": "code",
      "execution_count": null,
      "metadata": {
        "id": "h1WTvYd49Yb-"
      },
      "outputs": [],
      "source": [
        ""
      ]
    },
    {
      "cell_type": "code",
      "source": [
        ""
      ],
      "metadata": {
        "id": "dVdiTKneVRwT"
      },
      "execution_count": null,
      "outputs": []
    },
    {
      "cell_type": "code",
      "execution_count": null,
      "metadata": {
        "id": "-ZMgCvSRFqxE",
        "colab": {
          "base_uri": "https://localhost:8080/",
          "height": 487
        },
        "outputId": "5f8570f4-4d87-4757-835a-654001ff7923"
      },
      "outputs": [
        {
          "output_type": "stream",
          "name": "stdout",
          "text": [
            "0.0 degrees Kilometre = 0.0 degrees Mil\n",
            "1.61 degrees Kilometre = 21.0 degrees Mil\n",
            "8.05 degrees Kilometre = 25.0 degrees Mil\n",
            "12.87 degrees Kilometre = 28.0 degrees Mil\n",
            "14.48 degrees Kilometre = 29.0 degrees Mil\n",
            "19.31 degrees Kilometre = 32.0 degrees Mil\n",
            "22.53 degrees Kilometre = 34.0 degrees Mil\n",
            "25.75 degrees Kilometre = 36.0 degrees Mil\n",
            "28.96 degrees Kilometre = 38.0 degrees Mil\n",
            "30.57 degrees Kilometre = 39.0 degrees Mil\n",
            "Finished training the model\n",
            "[[105.92703]]\n"
          ]
        },
        {
          "output_type": "display_data",
          "data": {
            "image/png": "[encoded data removed]",
            "text/plain": [
              "<Figure size 432x288 with 1 Axes>"
            ]
          },
          "metadata": {
            "needs_background": "light"
          }
        }
      ],
      "source": [
        "import tensorflow as tf\n",
        "import numpy as np\n",
        "import logging\n",
        "import matplotlib.pyplot as plt\n",
        "\n",
        "logger = tf.get_logger()\n",
        "logger.setLevel(logging.ERROR)\n",
        "\n",
        "kilometre_q    = np.array([0, 1.61,  8.05, 12.87, 14.48,  19.31, 22.53, 25.750, 28.96, 30.57 ],  dtype=float)\n",
        "mil_a = np.array([0,  21, 25, 28, 29, 32, 34, 36, 38, 39 ],  dtype=float)\n",
        "\n",
        "for i,c in enumerate(kilometre_q):\n",
        "  print(\"{} degrees Kilometre = {} degrees Mil\".format(c,mil_a[i]))\n",
        "\n",
        "l0 = tf.keras.layers.Dense(units=1, input_shape=[1])\n",
        "\n",
        "model = tf.keras.Sequential([l0])\n",
        "model.compile(loss='mean_squared_error',\n",
        "              optimizer=tf.keras.optimizers.Adam(0.1))\n",
        "\n",
        "history = model.fit(kilometre_q, mil_a, epochs=500, verbose=False)\n",
        "\n",
        "print(\"Finished training the model\")\n",
        "\n",
        "plt.xlabel('Epoch Number')\n",
        "plt.ylabel(\"Loss Magnitude\")\n",
        "plt.plot(history.history['loss'])\n",
        "\n",
        "print(model.predict([100.0]))"
      ]
    }
  ]
}