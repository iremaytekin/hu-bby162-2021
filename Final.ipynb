{
  "nbformat": 4,
  "nbformat_minor": 0,
  "metadata": {
    "colab": {
      "name": "Final.ipynb adlı not defterinin kopyası",
      "provenance": [],
      "authorship_tag": "ABX9TyMDDefsfqM9sUDRq/esp96a",
      "include_colab_link": true
    },
    "kernelspec": {
      "name": "python3",
      "display_name": "Python 3"
    },
    "language_info": {
      "name": "python"
    }
  },
  "cells": [
    {
      "cell_type": "markdown",
      "metadata": {
        "id": "view-in-github",
        "colab_type": "text"
      },
      "source": [
        "<a href=\"https://colab.research.google.com/github/iremaytekin/hu-bby162-2021/blob/main/Final.ipynb\" target=\"_parent\"><img src=\"https://colab.research.google.com/assets/colab-badge.svg\" alt=\"Open In Colab\"/></a>"
      ]
    },
    {
      "cell_type": "code",
      "metadata": {
        "id": "jDrbh-0U8B-R"
      },
      "source": [
        "dosya = \"/content/drive/MyDrive/Colab Notebooks/HÜ-BBY-162/final.txt\"\n",
        " \n",
        "def KitapListeleme():\n",
        "  f = open(dosya, 'r')\n",
        "  for line in f.readlines():\n",
        "    print(line)\n",
        "  f.close()\n",
        "\n",
        "def KitapEkleme():\n",
        "  print (\"ekle\")\n",
        "  eserAdi = input(\"Eser Adı:\")\n",
        "  yazarAdi = input(\"Eserin Yazarı:\")\n",
        "  eserYayinevi = input(\"Eserin Yayınevi:\")\n",
        "  basımTarihi = input(\"Eserin Basım Tarihi:\")\n",
        "  IsbnEser = input(\"Eserin ISBN numarası:\")\n",
        "  f = open(dosya, 'a' )\n",
        "  f.write(eserAdi + \" , \" + yazarAdi + \" , \" + eserYayinevi + \" | \"  + basımTarihi + \"|\"  + IsbnEser + '\\n')\n",
        "  print(\"Kaynak kaydı girdiniz.\")\n",
        "  f.close()\n",
        "\n",
        "islemSecme = [\"liste\", \"ekle\", \"çıkış\"]\n",
        "while islemSecme:\n",
        "  girilen_islem = input(\"Listeyi görüntülemek için 'liste' yazınız. \\n\"\n",
        "      \"Eser bilgisi eklemek için 'ekle' yazınız.\\n\"     \n",
        "      \"Çıkmak için 'çıkış' yazınız.\\n\"\n",
        "      \"Aranacak kelimeyi giriniz: \")\n",
        "  \n",
        "  if girilen_islem == islemSecme[0]:\n",
        "    print(\"Katolog Oluşturma Sistemine Hoşgeldiniz!\")\n",
        "    EserListele()\n",
        "  elif girilen_islem == islemSecme[1]:\n",
        "    print(\"Yeni bir kayıt girdiniz.\")\n",
        "    EserKaydet()\n",
        "  elif girilen_islem == islemSecme[2]:\n",
        "    break\n"
      ],
      "execution_count": null,
      "outputs": []
    }
  ]
}